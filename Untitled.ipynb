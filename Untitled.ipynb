{
 "cells": [
  {
   "cell_type": "code",
   "execution_count": 1,
   "id": "latin-probability",
   "metadata": {},
   "outputs": [],
   "source": [
    "from spellchecker import SpellChecker"
   ]
  },
  {
   "cell_type": "code",
   "execution_count": 13,
   "id": "rising-knife",
   "metadata": {},
   "outputs": [],
   "source": [
    "spell = SpellChecker(language='ru')"
   ]
  },
  {
   "cell_type": "code",
   "execution_count": 20,
   "id": "cultural-receptor",
   "metadata": {},
   "outputs": [],
   "source": [
    "def correct_text(input_text):\n",
    "    input_text_words = input_text.split()\n",
    "    for count, word in enumerate(input_text_words):\n",
    "        input_text_words[count] = spell.correction(word)\n",
    "\n",
    "    output_text = ' '.join(input_text_words)\n",
    "    return output_text"
   ]
  },
  {
   "cell_type": "code",
   "execution_count": 22,
   "id": "fiscal-minister",
   "metadata": {},
   "outputs": [
    {
     "name": "stdout",
     "output_type": "stream",
     "text": [
      "здраствуйте привет как дела\n"
     ]
    }
   ],
   "source": [
    "input_text = 'здрамтуйте пивет как дела'\n",
    "output_text = correct_text(input_text)\n",
    "print(output_text)"
   ]
  },
  {
   "cell_type": "code",
   "execution_count": null,
   "id": "looking-compatibility",
   "metadata": {},
   "outputs": [],
   "source": []
  },
  {
   "cell_type": "code",
   "execution_count": null,
   "id": "possible-blair",
   "metadata": {},
   "outputs": [],
   "source": []
  }
 ],
 "metadata": {
  "kernelspec": {
   "display_name": "Python 3",
   "language": "python",
   "name": "python3"
  },
  "language_info": {
   "codemirror_mode": {
    "name": "ipython",
    "version": 3
   },
   "file_extension": ".py",
   "mimetype": "text/x-python",
   "name": "python",
   "nbconvert_exporter": "python",
   "pygments_lexer": "ipython3",
   "version": "3.8.8"
  }
 },
 "nbformat": 4,
 "nbformat_minor": 5
}
